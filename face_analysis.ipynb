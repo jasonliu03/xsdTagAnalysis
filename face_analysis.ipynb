{
 "cells": [
  {
   "cell_type": "code",
   "execution_count": 1,
   "metadata": {},
   "outputs": [],
   "source": [
    "%matplotlib inline\n",
    "import pandas as pd\n",
    "import numpy as np\n",
    "import itertools"
   ]
  },
  {
   "cell_type": "markdown",
   "metadata": {},
   "source": [
    "## 数据载入 ##\n",
    "\n",
    "### 新时代标签数据 ###"
   ]
  },
  {
   "cell_type": "code",
   "execution_count": 2,
   "metadata": {},
   "outputs": [
    {
     "data": {
      "text/html": [
       "<div>\n",
       "<style scoped>\n",
       "    .dataframe tbody tr th:only-of-type {\n",
       "        vertical-align: middle;\n",
       "    }\n",
       "\n",
       "    .dataframe tbody tr th {\n",
       "        vertical-align: top;\n",
       "    }\n",
       "\n",
       "    .dataframe thead th {\n",
       "        text-align: right;\n",
       "    }\n",
       "</style>\n",
       "<table border=\"1\" class=\"dataframe\">\n",
       "  <thead>\n",
       "    <tr style=\"text-align: right;\">\n",
       "      <th></th>\n",
       "      <th>id</th>\n",
       "      <th>owner_id</th>\n",
       "      <th>photo_id</th>\n",
       "      <th>time</th>\n",
       "      <th>faceDetectRes</th>\n",
       "      <th>faceColor</th>\n",
       "      <th>faceGloss</th>\n",
       "      <th>lipDetectRes</th>\n",
       "      <th>lipColor</th>\n",
       "      <th>id.1</th>\n",
       "      <th>oss_id</th>\n",
       "      <th>upload_time</th>\n",
       "      <th>id.2</th>\n",
       "      <th>photo_id.1</th>\n",
       "      <th>photo_type</th>\n",
       "      <th>original_photo_id</th>\n",
       "      <th>original_result_id</th>\n",
       "    </tr>\n",
       "  </thead>\n",
       "  <tbody>\n",
       "    <tr>\n",
       "      <th>0</th>\n",
       "      <td>1</td>\n",
       "      <td>90</td>\n",
       "      <td>1</td>\n",
       "      <td>2018-05-02 06:28:42</td>\n",
       "      <td>1</td>\n",
       "      <td>2.0</td>\n",
       "      <td>0.0</td>\n",
       "      <td>1.0</td>\n",
       "      <td>1.0</td>\n",
       "      <td>1</td>\n",
       "      <td>w-5/5FxPP-hI4YYU1J3QCyAj0mJqCO-u5ulRmAYtk7U28U...</td>\n",
       "      <td>2018-02-02 09:23:55</td>\n",
       "      <td>1</td>\n",
       "      <td>1</td>\n",
       "      <td>face</td>\n",
       "      <td>NaN</td>\n",
       "      <td>5</td>\n",
       "    </tr>\n",
       "    <tr>\n",
       "      <th>1</th>\n",
       "      <td>3</td>\n",
       "      <td>91</td>\n",
       "      <td>1</td>\n",
       "      <td>2018-05-02 06:58:38</td>\n",
       "      <td>1</td>\n",
       "      <td>2.0</td>\n",
       "      <td>0.0</td>\n",
       "      <td>1.0</td>\n",
       "      <td>1.0</td>\n",
       "      <td>1</td>\n",
       "      <td>w-5/5FxPP-hI4YYU1J3QCyAj0mJqCO-u5ulRmAYtk7U28U...</td>\n",
       "      <td>2018-02-02 09:23:55</td>\n",
       "      <td>1</td>\n",
       "      <td>1</td>\n",
       "      <td>face</td>\n",
       "      <td>NaN</td>\n",
       "      <td>5</td>\n",
       "    </tr>\n",
       "    <tr>\n",
       "      <th>2</th>\n",
       "      <td>333</td>\n",
       "      <td>93</td>\n",
       "      <td>1</td>\n",
       "      <td>2018-05-03 05:10:17</td>\n",
       "      <td>1</td>\n",
       "      <td>2.0</td>\n",
       "      <td>0.0</td>\n",
       "      <td>1.0</td>\n",
       "      <td>2.0</td>\n",
       "      <td>1</td>\n",
       "      <td>w-5/5FxPP-hI4YYU1J3QCyAj0mJqCO-u5ulRmAYtk7U28U...</td>\n",
       "      <td>2018-02-02 09:23:55</td>\n",
       "      <td>1</td>\n",
       "      <td>1</td>\n",
       "      <td>face</td>\n",
       "      <td>NaN</td>\n",
       "      <td>5</td>\n",
       "    </tr>\n",
       "    <tr>\n",
       "      <th>3</th>\n",
       "      <td>575</td>\n",
       "      <td>1</td>\n",
       "      <td>1</td>\n",
       "      <td>2018-05-07 00:25:48</td>\n",
       "      <td>1</td>\n",
       "      <td>2.0</td>\n",
       "      <td>0.0</td>\n",
       "      <td>1.0</td>\n",
       "      <td>2.0</td>\n",
       "      <td>1</td>\n",
       "      <td>w-5/5FxPP-hI4YYU1J3QCyAj0mJqCO-u5ulRmAYtk7U28U...</td>\n",
       "      <td>2018-02-02 09:23:55</td>\n",
       "      <td>1</td>\n",
       "      <td>1</td>\n",
       "      <td>face</td>\n",
       "      <td>NaN</td>\n",
       "      <td>5</td>\n",
       "    </tr>\n",
       "    <tr>\n",
       "      <th>4</th>\n",
       "      <td>2</td>\n",
       "      <td>90</td>\n",
       "      <td>2</td>\n",
       "      <td>2018-05-02 06:30:22</td>\n",
       "      <td>1</td>\n",
       "      <td>3.0</td>\n",
       "      <td>1.0</td>\n",
       "      <td>1.0</td>\n",
       "      <td>0.0</td>\n",
       "      <td>2</td>\n",
       "      <td>w-31/sGTYos0P3Z11c770qlozJDDCrGGKqbXHz4Yhpp-qz...</td>\n",
       "      <td>2018-02-05 03:28:05</td>\n",
       "      <td>2</td>\n",
       "      <td>2</td>\n",
       "      <td>face</td>\n",
       "      <td>NaN</td>\n",
       "      <td>111</td>\n",
       "    </tr>\n",
       "  </tbody>\n",
       "</table>\n",
       "</div>"
      ],
      "text/plain": [
       "    id  owner_id  photo_id                 time  faceDetectRes  faceColor  \\\n",
       "0    1        90         1  2018-05-02 06:28:42              1        2.0   \n",
       "1    3        91         1  2018-05-02 06:58:38              1        2.0   \n",
       "2  333        93         1  2018-05-03 05:10:17              1        2.0   \n",
       "3  575         1         1  2018-05-07 00:25:48              1        2.0   \n",
       "4    2        90         2  2018-05-02 06:30:22              1        3.0   \n",
       "\n",
       "   faceGloss  lipDetectRes  lipColor  id.1  \\\n",
       "0        0.0           1.0       1.0     1   \n",
       "1        0.0           1.0       1.0     1   \n",
       "2        0.0           1.0       2.0     1   \n",
       "3        0.0           1.0       2.0     1   \n",
       "4        1.0           1.0       0.0     2   \n",
       "\n",
       "                                              oss_id          upload_time  \\\n",
       "0  w-5/5FxPP-hI4YYU1J3QCyAj0mJqCO-u5ulRmAYtk7U28U...  2018-02-02 09:23:55   \n",
       "1  w-5/5FxPP-hI4YYU1J3QCyAj0mJqCO-u5ulRmAYtk7U28U...  2018-02-02 09:23:55   \n",
       "2  w-5/5FxPP-hI4YYU1J3QCyAj0mJqCO-u5ulRmAYtk7U28U...  2018-02-02 09:23:55   \n",
       "3  w-5/5FxPP-hI4YYU1J3QCyAj0mJqCO-u5ulRmAYtk7U28U...  2018-02-02 09:23:55   \n",
       "4  w-31/sGTYos0P3Z11c770qlozJDDCrGGKqbXHz4Yhpp-qz...  2018-02-05 03:28:05   \n",
       "\n",
       "   id.2  photo_id.1 photo_type  original_photo_id  original_result_id  \n",
       "0     1           1       face                NaN                   5  \n",
       "1     1           1       face                NaN                   5  \n",
       "2     1           1       face                NaN                   5  \n",
       "3     1           1       face                NaN                   5  \n",
       "4     2           2       face                NaN                 111  "
      ]
     },
     "execution_count": 2,
     "metadata": {},
     "output_type": "execute_result"
    }
   ],
   "source": [
    "tag_file = './xsd-tag-face-20180507.csv'\n",
    "tag = pd.read_csv(tag_file)\n",
    "tag.head()"
   ]
  },
  {
   "cell_type": "code",
   "execution_count": 3,
   "metadata": {},
   "outputs": [
    {
     "data": {
      "text/html": [
       "<div>\n",
       "<style scoped>\n",
       "    .dataframe tbody tr th:only-of-type {\n",
       "        vertical-align: middle;\n",
       "    }\n",
       "\n",
       "    .dataframe tbody tr th {\n",
       "        vertical-align: top;\n",
       "    }\n",
       "\n",
       "    .dataframe thead th {\n",
       "        text-align: right;\n",
       "    }\n",
       "</style>\n",
       "<table border=\"1\" class=\"dataframe\">\n",
       "  <thead>\n",
       "    <tr style=\"text-align: right;\">\n",
       "      <th></th>\n",
       "      <th>id</th>\n",
       "    </tr>\n",
       "    <tr>\n",
       "      <th>owner_id</th>\n",
       "      <th></th>\n",
       "    </tr>\n",
       "  </thead>\n",
       "  <tbody>\n",
       "    <tr>\n",
       "      <th>1</th>\n",
       "      <td>94</td>\n",
       "    </tr>\n",
       "    <tr>\n",
       "      <th>90</th>\n",
       "      <td>72</td>\n",
       "    </tr>\n",
       "    <tr>\n",
       "      <th>91</th>\n",
       "      <td>468</td>\n",
       "    </tr>\n",
       "    <tr>\n",
       "      <th>93</th>\n",
       "      <td>206</td>\n",
       "    </tr>\n",
       "    <tr>\n",
       "      <th>99</th>\n",
       "      <td>1</td>\n",
       "    </tr>\n",
       "  </tbody>\n",
       "</table>\n",
       "</div>"
      ],
      "text/plain": [
       "           id\n",
       "owner_id     \n",
       "1          94\n",
       "90         72\n",
       "91        468\n",
       "93        206\n",
       "99          1"
      ]
     },
     "execution_count": 3,
     "metadata": {},
     "output_type": "execute_result"
    }
   ],
   "source": [
    "tag.groupby('owner_id').count()[['id']]"
   ]
  },
  {
   "cell_type": "markdown",
   "metadata": {},
   "source": [
    "### 算法输出数据 ###"
   ]
  },
  {
   "cell_type": "code",
   "execution_count": 4,
   "metadata": {},
   "outputs": [
    {
     "data": {
      "text/html": [
       "<div>\n",
       "<style scoped>\n",
       "    .dataframe tbody tr th:only-of-type {\n",
       "        vertical-align: middle;\n",
       "    }\n",
       "\n",
       "    .dataframe tbody tr th {\n",
       "        vertical-align: top;\n",
       "    }\n",
       "\n",
       "    .dataframe thead th {\n",
       "        text-align: right;\n",
       "    }\n",
       "</style>\n",
       "<table border=\"1\" class=\"dataframe\">\n",
       "  <thead>\n",
       "    <tr style=\"text-align: right;\">\n",
       "      <th></th>\n",
       "      <th>id</th>\n",
       "      <th>owner_id</th>\n",
       "      <th>photo_id</th>\n",
       "      <th>time</th>\n",
       "      <th>algorithm_version_id</th>\n",
       "      <th>diagnosis_raw</th>\n",
       "      <th>face_L</th>\n",
       "      <th>face_a</th>\n",
       "      <th>face_b</th>\n",
       "      <th>gloss</th>\n",
       "      <th>...</th>\n",
       "      <th>none_gloss</th>\n",
       "      <th>lip_L</th>\n",
       "      <th>lip_a</th>\n",
       "      <th>lip_b</th>\n",
       "      <th>faceDetectRes</th>\n",
       "      <th>faceColor</th>\n",
       "      <th>faceGloss</th>\n",
       "      <th>lipDetectRes</th>\n",
       "      <th>lipColor</th>\n",
       "      <th>agency_id</th>\n",
       "    </tr>\n",
       "  </thead>\n",
       "  <tbody>\n",
       "    <tr>\n",
       "      <th>0</th>\n",
       "      <td>3658</td>\n",
       "      <td>4732</td>\n",
       "      <td>6930</td>\n",
       "      <td>2018-05-07 11:06:10</td>\n",
       "      <td>1</td>\n",
       "      <td>11</td>\n",
       "      <td>113.0</td>\n",
       "      <td>126.0</td>\n",
       "      <td>134.0</td>\n",
       "      <td>0.956392</td>\n",
       "      <td>...</td>\n",
       "      <td>0.728453</td>\n",
       "      <td>NaN</td>\n",
       "      <td>NaN</td>\n",
       "      <td>NaN</td>\n",
       "      <td>1</td>\n",
       "      <td>1.0</td>\n",
       "      <td>0.0</td>\n",
       "      <td>0</td>\n",
       "      <td>NaN</td>\n",
       "      <td>NaN</td>\n",
       "    </tr>\n",
       "    <tr>\n",
       "      <th>1</th>\n",
       "      <td>3657</td>\n",
       "      <td>4731</td>\n",
       "      <td>6929</td>\n",
       "      <td>2018-05-07 11:03:57</td>\n",
       "      <td>1</td>\n",
       "      <td>41151</td>\n",
       "      <td>149.0</td>\n",
       "      <td>137.0</td>\n",
       "      <td>141.0</td>\n",
       "      <td>0.801642</td>\n",
       "      <td>...</td>\n",
       "      <td>0.799734</td>\n",
       "      <td>112.0</td>\n",
       "      <td>151.0</td>\n",
       "      <td>139.0</td>\n",
       "      <td>1</td>\n",
       "      <td>5.0</td>\n",
       "      <td>1.0</td>\n",
       "      <td>1</td>\n",
       "      <td>4.0</td>\n",
       "      <td>NaN</td>\n",
       "    </tr>\n",
       "    <tr>\n",
       "      <th>2</th>\n",
       "      <td>3656</td>\n",
       "      <td>4729</td>\n",
       "      <td>6927</td>\n",
       "      <td>2018-05-07 08:54:38</td>\n",
       "      <td>1</td>\n",
       "      <td>41131</td>\n",
       "      <td>143.0</td>\n",
       "      <td>141.0</td>\n",
       "      <td>148.0</td>\n",
       "      <td>0.772053</td>\n",
       "      <td>...</td>\n",
       "      <td>0.784351</td>\n",
       "      <td>111.0</td>\n",
       "      <td>151.0</td>\n",
       "      <td>143.0</td>\n",
       "      <td>1</td>\n",
       "      <td>3.0</td>\n",
       "      <td>1.0</td>\n",
       "      <td>1</td>\n",
       "      <td>4.0</td>\n",
       "      <td>NaN</td>\n",
       "    </tr>\n",
       "    <tr>\n",
       "      <th>3</th>\n",
       "      <td>3655</td>\n",
       "      <td>4720</td>\n",
       "      <td>6925</td>\n",
       "      <td>2018-05-07 07:54:06</td>\n",
       "      <td>1</td>\n",
       "      <td>41151</td>\n",
       "      <td>134.0</td>\n",
       "      <td>140.0</td>\n",
       "      <td>147.0</td>\n",
       "      <td>0.799565</td>\n",
       "      <td>...</td>\n",
       "      <td>0.822422</td>\n",
       "      <td>95.0</td>\n",
       "      <td>154.0</td>\n",
       "      <td>142.0</td>\n",
       "      <td>1</td>\n",
       "      <td>5.0</td>\n",
       "      <td>1.0</td>\n",
       "      <td>1</td>\n",
       "      <td>4.0</td>\n",
       "      <td>NaN</td>\n",
       "    </tr>\n",
       "    <tr>\n",
       "      <th>4</th>\n",
       "      <td>3654</td>\n",
       "      <td>4730</td>\n",
       "      <td>6923</td>\n",
       "      <td>2018-05-07 07:45:01</td>\n",
       "      <td>1</td>\n",
       "      <td>1201</td>\n",
       "      <td>168.0</td>\n",
       "      <td>140.0</td>\n",
       "      <td>144.0</td>\n",
       "      <td>0.858614</td>\n",
       "      <td>...</td>\n",
       "      <td>0.923527</td>\n",
       "      <td>134.0</td>\n",
       "      <td>150.0</td>\n",
       "      <td>141.0</td>\n",
       "      <td>1</td>\n",
       "      <td>0.0</td>\n",
       "      <td>2.0</td>\n",
       "      <td>1</td>\n",
       "      <td>0.0</td>\n",
       "      <td>NaN</td>\n",
       "    </tr>\n",
       "  </tbody>\n",
       "</table>\n",
       "<p>5 rows × 21 columns</p>\n",
       "</div>"
      ],
      "text/plain": [
       "     id  owner_id  photo_id                 time  algorithm_version_id  \\\n",
       "0  3658      4732      6930  2018-05-07 11:06:10                     1   \n",
       "1  3657      4731      6929  2018-05-07 11:03:57                     1   \n",
       "2  3656      4729      6927  2018-05-07 08:54:38                     1   \n",
       "3  3655      4720      6925  2018-05-07 07:54:06                     1   \n",
       "4  3654      4730      6923  2018-05-07 07:45:01                     1   \n",
       "\n",
       "   diagnosis_raw  face_L  face_a  face_b     gloss    ...      none_gloss  \\\n",
       "0             11   113.0   126.0   134.0  0.956392    ...        0.728453   \n",
       "1          41151   149.0   137.0   141.0  0.801642    ...        0.799734   \n",
       "2          41131   143.0   141.0   148.0  0.772053    ...        0.784351   \n",
       "3          41151   134.0   140.0   147.0  0.799565    ...        0.822422   \n",
       "4           1201   168.0   140.0   144.0  0.858614    ...        0.923527   \n",
       "\n",
       "   lip_L  lip_a  lip_b  faceDetectRes  faceColor  faceGloss  lipDetectRes  \\\n",
       "0    NaN    NaN    NaN              1        1.0        0.0             0   \n",
       "1  112.0  151.0  139.0              1        5.0        1.0             1   \n",
       "2  111.0  151.0  143.0              1        3.0        1.0             1   \n",
       "3   95.0  154.0  142.0              1        5.0        1.0             1   \n",
       "4  134.0  150.0  141.0              1        0.0        2.0             1   \n",
       "\n",
       "   lipColor  agency_id  \n",
       "0       NaN        NaN  \n",
       "1       4.0        NaN  \n",
       "2       4.0        NaN  \n",
       "3       4.0        NaN  \n",
       "4       0.0        NaN  \n",
       "\n",
       "[5 rows x 21 columns]"
      ]
     },
     "execution_count": 4,
     "metadata": {},
     "output_type": "execute_result"
    }
   ],
   "source": [
    "target_file = './zy-tag-face-20180507.csv'\n",
    "target = pd.read_csv(target_file)\n",
    "target.head()"
   ]
  },
  {
   "cell_type": "code",
   "execution_count": 5,
   "metadata": {},
   "outputs": [
    {
     "data": {
      "text/html": [
       "<div>\n",
       "<style scoped>\n",
       "    .dataframe tbody tr th:only-of-type {\n",
       "        vertical-align: middle;\n",
       "    }\n",
       "\n",
       "    .dataframe tbody tr th {\n",
       "        vertical-align: top;\n",
       "    }\n",
       "\n",
       "    .dataframe thead th {\n",
       "        text-align: right;\n",
       "    }\n",
       "</style>\n",
       "<table border=\"1\" class=\"dataframe\">\n",
       "  <thead>\n",
       "    <tr style=\"text-align: right;\">\n",
       "      <th></th>\n",
       "      <th>id.tag</th>\n",
       "      <th>owner_id.tag</th>\n",
       "      <th>photo_id.tag</th>\n",
       "      <th>time.tag</th>\n",
       "      <th>faceDetectRes.tag</th>\n",
       "      <th>faceColor.tag</th>\n",
       "      <th>faceGloss.tag</th>\n",
       "      <th>lipDetectRes.tag</th>\n",
       "      <th>lipColor.tag</th>\n",
       "      <th>id.1</th>\n",
       "      <th>...</th>\n",
       "      <th>none_gloss</th>\n",
       "      <th>lip_L</th>\n",
       "      <th>lip_a</th>\n",
       "      <th>lip_b</th>\n",
       "      <th>faceDetectRes.raw</th>\n",
       "      <th>faceColor.raw</th>\n",
       "      <th>faceGloss.raw</th>\n",
       "      <th>lipDetectRes.raw</th>\n",
       "      <th>lipColor.raw</th>\n",
       "      <th>agency_id</th>\n",
       "    </tr>\n",
       "  </thead>\n",
       "  <tbody>\n",
       "    <tr>\n",
       "      <th>0</th>\n",
       "      <td>1</td>\n",
       "      <td>90</td>\n",
       "      <td>1</td>\n",
       "      <td>2018-05-02 06:28:42</td>\n",
       "      <td>1</td>\n",
       "      <td>2.0</td>\n",
       "      <td>0.0</td>\n",
       "      <td>1.0</td>\n",
       "      <td>1.0</td>\n",
       "      <td>1</td>\n",
       "      <td>...</td>\n",
       "      <td>0.852593</td>\n",
       "      <td>24.0</td>\n",
       "      <td>131.0</td>\n",
       "      <td>132.0</td>\n",
       "      <td>1</td>\n",
       "      <td>5.0</td>\n",
       "      <td>2.0</td>\n",
       "      <td>1</td>\n",
       "      <td>4.0</td>\n",
       "      <td>NaN</td>\n",
       "    </tr>\n",
       "    <tr>\n",
       "      <th>1</th>\n",
       "      <td>3</td>\n",
       "      <td>91</td>\n",
       "      <td>1</td>\n",
       "      <td>2018-05-02 06:58:38</td>\n",
       "      <td>1</td>\n",
       "      <td>2.0</td>\n",
       "      <td>0.0</td>\n",
       "      <td>1.0</td>\n",
       "      <td>1.0</td>\n",
       "      <td>1</td>\n",
       "      <td>...</td>\n",
       "      <td>0.852593</td>\n",
       "      <td>24.0</td>\n",
       "      <td>131.0</td>\n",
       "      <td>132.0</td>\n",
       "      <td>1</td>\n",
       "      <td>5.0</td>\n",
       "      <td>2.0</td>\n",
       "      <td>1</td>\n",
       "      <td>4.0</td>\n",
       "      <td>NaN</td>\n",
       "    </tr>\n",
       "    <tr>\n",
       "      <th>2</th>\n",
       "      <td>333</td>\n",
       "      <td>93</td>\n",
       "      <td>1</td>\n",
       "      <td>2018-05-03 05:10:17</td>\n",
       "      <td>1</td>\n",
       "      <td>2.0</td>\n",
       "      <td>0.0</td>\n",
       "      <td>1.0</td>\n",
       "      <td>2.0</td>\n",
       "      <td>1</td>\n",
       "      <td>...</td>\n",
       "      <td>0.852593</td>\n",
       "      <td>24.0</td>\n",
       "      <td>131.0</td>\n",
       "      <td>132.0</td>\n",
       "      <td>1</td>\n",
       "      <td>5.0</td>\n",
       "      <td>2.0</td>\n",
       "      <td>1</td>\n",
       "      <td>4.0</td>\n",
       "      <td>NaN</td>\n",
       "    </tr>\n",
       "    <tr>\n",
       "      <th>3</th>\n",
       "      <td>575</td>\n",
       "      <td>1</td>\n",
       "      <td>1</td>\n",
       "      <td>2018-05-07 00:25:48</td>\n",
       "      <td>1</td>\n",
       "      <td>2.0</td>\n",
       "      <td>0.0</td>\n",
       "      <td>1.0</td>\n",
       "      <td>2.0</td>\n",
       "      <td>1</td>\n",
       "      <td>...</td>\n",
       "      <td>0.852593</td>\n",
       "      <td>24.0</td>\n",
       "      <td>131.0</td>\n",
       "      <td>132.0</td>\n",
       "      <td>1</td>\n",
       "      <td>5.0</td>\n",
       "      <td>2.0</td>\n",
       "      <td>1</td>\n",
       "      <td>4.0</td>\n",
       "      <td>NaN</td>\n",
       "    </tr>\n",
       "    <tr>\n",
       "      <th>4</th>\n",
       "      <td>2</td>\n",
       "      <td>90</td>\n",
       "      <td>2</td>\n",
       "      <td>2018-05-02 06:30:22</td>\n",
       "      <td>1</td>\n",
       "      <td>3.0</td>\n",
       "      <td>1.0</td>\n",
       "      <td>1.0</td>\n",
       "      <td>0.0</td>\n",
       "      <td>2</td>\n",
       "      <td>...</td>\n",
       "      <td>0.918257</td>\n",
       "      <td>151.0</td>\n",
       "      <td>152.0</td>\n",
       "      <td>143.0</td>\n",
       "      <td>1</td>\n",
       "      <td>5.0</td>\n",
       "      <td>2.0</td>\n",
       "      <td>1</td>\n",
       "      <td>0.0</td>\n",
       "      <td>NaN</td>\n",
       "    </tr>\n",
       "  </tbody>\n",
       "</table>\n",
       "<p>5 rows × 38 columns</p>\n",
       "</div>"
      ],
      "text/plain": [
       "   id.tag  owner_id.tag  photo_id.tag             time.tag  faceDetectRes.tag  \\\n",
       "0       1            90             1  2018-05-02 06:28:42                  1   \n",
       "1       3            91             1  2018-05-02 06:58:38                  1   \n",
       "2     333            93             1  2018-05-03 05:10:17                  1   \n",
       "3     575             1             1  2018-05-07 00:25:48                  1   \n",
       "4       2            90             2  2018-05-02 06:30:22                  1   \n",
       "\n",
       "   faceColor.tag  faceGloss.tag  lipDetectRes.tag  lipColor.tag  id.1  \\\n",
       "0            2.0            0.0               1.0           1.0     1   \n",
       "1            2.0            0.0               1.0           1.0     1   \n",
       "2            2.0            0.0               1.0           2.0     1   \n",
       "3            2.0            0.0               1.0           2.0     1   \n",
       "4            3.0            1.0               1.0           0.0     2   \n",
       "\n",
       "     ...     none_gloss  lip_L  lip_a  lip_b faceDetectRes.raw  faceColor.raw  \\\n",
       "0    ...       0.852593   24.0  131.0  132.0                 1            5.0   \n",
       "1    ...       0.852593   24.0  131.0  132.0                 1            5.0   \n",
       "2    ...       0.852593   24.0  131.0  132.0                 1            5.0   \n",
       "3    ...       0.852593   24.0  131.0  132.0                 1            5.0   \n",
       "4    ...       0.918257  151.0  152.0  143.0                 1            5.0   \n",
       "\n",
       "   faceGloss.raw  lipDetectRes.raw  lipColor.raw  agency_id  \n",
       "0            2.0                 1           4.0        NaN  \n",
       "1            2.0                 1           4.0        NaN  \n",
       "2            2.0                 1           4.0        NaN  \n",
       "3            2.0                 1           4.0        NaN  \n",
       "4            2.0                 1           0.0        NaN  \n",
       "\n",
       "[5 rows x 38 columns]"
      ]
     },
     "execution_count": 5,
     "metadata": {},
     "output_type": "execute_result"
    }
   ],
   "source": [
    "suffixes = ['.tag', '.raw']\n",
    "merged = tag.merge(target, left_on='original_result_id', right_on='photo_id', suffixes=suffixes)\n",
    "merged.head()"
   ]
  },
  {
   "cell_type": "code",
   "execution_count": 6,
   "metadata": {},
   "outputs": [
    {
     "data": {
      "text/plain": [
       "(841, 841)"
      ]
     },
     "execution_count": 6,
     "metadata": {},
     "output_type": "execute_result"
    }
   ],
   "source": [
    "(tag['id'].count(), merged['id.tag'].count())"
   ]
  },
  {
   "cell_type": "markdown",
   "metadata": {},
   "source": [
    "### 数据匹配 ###\n",
    "\n",
    "联合后的结果如下。\n",
    "\n",
    "只选取感兴趣的三个特征列，以及两个表示面/唇有没有被识别到的列"
   ]
  },
  {
   "cell_type": "code",
   "execution_count": 7,
   "metadata": {},
   "outputs": [
    {
     "data": {
      "text/html": [
       "<div>\n",
       "<style scoped>\n",
       "    .dataframe tbody tr th:only-of-type {\n",
       "        vertical-align: middle;\n",
       "    }\n",
       "\n",
       "    .dataframe tbody tr th {\n",
       "        vertical-align: top;\n",
       "    }\n",
       "\n",
       "    .dataframe thead th {\n",
       "        text-align: right;\n",
       "    }\n",
       "</style>\n",
       "<table border=\"1\" class=\"dataframe\">\n",
       "  <thead>\n",
       "    <tr style=\"text-align: right;\">\n",
       "      <th></th>\n",
       "      <th>owner_id.tag</th>\n",
       "      <th>id.tag</th>\n",
       "      <th>id.raw</th>\n",
       "      <th>photo_id.tag</th>\n",
       "      <th>original_result_id</th>\n",
       "      <th>photo_id.raw</th>\n",
       "      <th>faceDetectRes.tag</th>\n",
       "      <th>faceDetectRes.raw</th>\n",
       "      <th>faceColor.tag</th>\n",
       "      <th>faceColor.raw</th>\n",
       "      <th>faceGloss.tag</th>\n",
       "      <th>faceGloss.raw</th>\n",
       "      <th>lipDetectRes.tag</th>\n",
       "      <th>lipDetectRes.raw</th>\n",
       "      <th>lipColor.tag</th>\n",
       "      <th>lipColor.raw</th>\n",
       "    </tr>\n",
       "  </thead>\n",
       "  <tbody>\n",
       "    <tr>\n",
       "      <th>0</th>\n",
       "      <td>90</td>\n",
       "      <td>1</td>\n",
       "      <td>3</td>\n",
       "      <td>1</td>\n",
       "      <td>5</td>\n",
       "      <td>5</td>\n",
       "      <td>1</td>\n",
       "      <td>1</td>\n",
       "      <td>2.0</td>\n",
       "      <td>5.0</td>\n",
       "      <td>0.0</td>\n",
       "      <td>2.0</td>\n",
       "      <td>1.0</td>\n",
       "      <td>1</td>\n",
       "      <td>1.0</td>\n",
       "      <td>4.0</td>\n",
       "    </tr>\n",
       "    <tr>\n",
       "      <th>1</th>\n",
       "      <td>91</td>\n",
       "      <td>3</td>\n",
       "      <td>3</td>\n",
       "      <td>1</td>\n",
       "      <td>5</td>\n",
       "      <td>5</td>\n",
       "      <td>1</td>\n",
       "      <td>1</td>\n",
       "      <td>2.0</td>\n",
       "      <td>5.0</td>\n",
       "      <td>0.0</td>\n",
       "      <td>2.0</td>\n",
       "      <td>1.0</td>\n",
       "      <td>1</td>\n",
       "      <td>1.0</td>\n",
       "      <td>4.0</td>\n",
       "    </tr>\n",
       "    <tr>\n",
       "      <th>2</th>\n",
       "      <td>93</td>\n",
       "      <td>333</td>\n",
       "      <td>3</td>\n",
       "      <td>1</td>\n",
       "      <td>5</td>\n",
       "      <td>5</td>\n",
       "      <td>1</td>\n",
       "      <td>1</td>\n",
       "      <td>2.0</td>\n",
       "      <td>5.0</td>\n",
       "      <td>0.0</td>\n",
       "      <td>2.0</td>\n",
       "      <td>1.0</td>\n",
       "      <td>1</td>\n",
       "      <td>2.0</td>\n",
       "      <td>4.0</td>\n",
       "    </tr>\n",
       "    <tr>\n",
       "      <th>3</th>\n",
       "      <td>1</td>\n",
       "      <td>575</td>\n",
       "      <td>3</td>\n",
       "      <td>1</td>\n",
       "      <td>5</td>\n",
       "      <td>5</td>\n",
       "      <td>1</td>\n",
       "      <td>1</td>\n",
       "      <td>2.0</td>\n",
       "      <td>5.0</td>\n",
       "      <td>0.0</td>\n",
       "      <td>2.0</td>\n",
       "      <td>1.0</td>\n",
       "      <td>1</td>\n",
       "      <td>2.0</td>\n",
       "      <td>4.0</td>\n",
       "    </tr>\n",
       "    <tr>\n",
       "      <th>4</th>\n",
       "      <td>90</td>\n",
       "      <td>2</td>\n",
       "      <td>60</td>\n",
       "      <td>2</td>\n",
       "      <td>111</td>\n",
       "      <td>111</td>\n",
       "      <td>1</td>\n",
       "      <td>1</td>\n",
       "      <td>3.0</td>\n",
       "      <td>5.0</td>\n",
       "      <td>1.0</td>\n",
       "      <td>2.0</td>\n",
       "      <td>1.0</td>\n",
       "      <td>1</td>\n",
       "      <td>0.0</td>\n",
       "      <td>0.0</td>\n",
       "    </tr>\n",
       "  </tbody>\n",
       "</table>\n",
       "</div>"
      ],
      "text/plain": [
       "   owner_id.tag  id.tag  id.raw  photo_id.tag  original_result_id  \\\n",
       "0            90       1       3             1                   5   \n",
       "1            91       3       3             1                   5   \n",
       "2            93     333       3             1                   5   \n",
       "3             1     575       3             1                   5   \n",
       "4            90       2      60             2                 111   \n",
       "\n",
       "   photo_id.raw  faceDetectRes.tag  faceDetectRes.raw  faceColor.tag  \\\n",
       "0             5                  1                  1            2.0   \n",
       "1             5                  1                  1            2.0   \n",
       "2             5                  1                  1            2.0   \n",
       "3             5                  1                  1            2.0   \n",
       "4           111                  1                  1            3.0   \n",
       "\n",
       "   faceColor.raw  faceGloss.tag  faceGloss.raw  lipDetectRes.tag  \\\n",
       "0            5.0            0.0            2.0               1.0   \n",
       "1            5.0            0.0            2.0               1.0   \n",
       "2            5.0            0.0            2.0               1.0   \n",
       "3            5.0            0.0            2.0               1.0   \n",
       "4            5.0            1.0            2.0               1.0   \n",
       "\n",
       "   lipDetectRes.raw  lipColor.tag  lipColor.raw  \n",
       "0                 1           1.0           4.0  \n",
       "1                 1           1.0           4.0  \n",
       "2                 1           2.0           4.0  \n",
       "3                 1           2.0           4.0  \n",
       "4                 1           0.0           0.0  "
      ]
     },
     "execution_count": 7,
     "metadata": {},
     "output_type": "execute_result"
    }
   ],
   "source": [
    "features = 'faceDetectRes faceColor faceGloss lipDetectRes lipColor'.split()\n",
    "interested = [''.join(x) for x in itertools.product(features, suffixes)]\n",
    "meta_columns = ['owner_id.tag', 'id.tag', 'id.raw', 'photo_id.tag', 'original_result_id', 'photo_id.raw']\n",
    "result = merged[meta_columns + interested]\n",
    "result.head()"
   ]
  },
  {
   "cell_type": "markdown",
   "metadata": {},
   "source": [
    "### 面部识别有无不一致 ###\n",
    "\n",
    "确定双方都识别出了面部\n"
   ]
  },
  {
   "cell_type": "code",
   "execution_count": 8,
   "metadata": {},
   "outputs": [
    {
     "data": {
      "text/plain": [
       "1"
      ]
     },
     "execution_count": 8,
     "metadata": {},
     "output_type": "execute_result"
    }
   ],
   "source": [
    "result[result['faceDetectRes.raw'] != result['faceDetectRes.tag']].shape[0]"
   ]
  },
  {
   "cell_type": "markdown",
   "metadata": {},
   "source": [
    "### 识别唇部有无不一致 ##\n",
    "\n",
    "确定双方都识别出了唇部。事实上我们的算法没有识别出一部分图片中的唇部。"
   ]
  },
  {
   "cell_type": "code",
   "execution_count": 9,
   "metadata": {},
   "outputs": [
    {
     "data": {
      "text/plain": [
       "16"
      ]
     },
     "execution_count": 9,
     "metadata": {},
     "output_type": "execute_result"
    }
   ],
   "source": [
    "result[result['lipDetectRes.raw'] != result['lipDetectRes.tag']].shape[0]"
   ]
  },
  {
   "cell_type": "markdown",
   "metadata": {},
   "source": [
    "## 原始数据对比 ##\n",
    "\n",
    "以下部分对比双方给出的原始数据（未作任何变换）。\n",
    "\n",
    "\n",
    "### 判断双方给出的特征是否一致 ###\n",
    "\n",
    "增加三个列：`faceColor.same`、`faceGloss.same`、`lipColor.same`，分别表示双方判定的面色、光泽、唇色是否相同。\n",
    "\n",
    "如果面、唇没有检测出来，对应的特征会被置为`None`，所以肯定是不等的，不用做特殊处理。"
   ]
  },
  {
   "cell_type": "code",
   "execution_count": 10,
   "metadata": {},
   "outputs": [
    {
     "name": "stderr",
     "output_type": "stream",
     "text": [
      "/home/genzj/.virtualenvs/test/lib/python3.6/site-packages/ipykernel_launcher.py:1: SettingWithCopyWarning: \n",
      "A value is trying to be set on a copy of a slice from a DataFrame.\n",
      "Try using .loc[row_indexer,col_indexer] = value instead\n",
      "\n",
      "See the caveats in the documentation: http://pandas.pydata.org/pandas-docs/stable/indexing.html#indexing-view-versus-copy\n",
      "  \"\"\"Entry point for launching an IPython kernel.\n",
      "/home/genzj/.virtualenvs/test/lib/python3.6/site-packages/ipykernel_launcher.py:2: SettingWithCopyWarning: \n",
      "A value is trying to be set on a copy of a slice from a DataFrame.\n",
      "Try using .loc[row_indexer,col_indexer] = value instead\n",
      "\n",
      "See the caveats in the documentation: http://pandas.pydata.org/pandas-docs/stable/indexing.html#indexing-view-versus-copy\n",
      "  \n",
      "/home/genzj/.virtualenvs/test/lib/python3.6/site-packages/ipykernel_launcher.py:3: SettingWithCopyWarning: \n",
      "A value is trying to be set on a copy of a slice from a DataFrame.\n",
      "Try using .loc[row_indexer,col_indexer] = value instead\n",
      "\n",
      "See the caveats in the documentation: http://pandas.pydata.org/pandas-docs/stable/indexing.html#indexing-view-versus-copy\n",
      "  This is separate from the ipykernel package so we can avoid doing imports until\n",
      "/home/genzj/.virtualenvs/test/lib/python3.6/site-packages/ipykernel_launcher.py:4: SettingWithCopyWarning: \n",
      "A value is trying to be set on a copy of a slice from a DataFrame.\n",
      "Try using .loc[row_indexer,col_indexer] = value instead\n",
      "\n",
      "See the caveats in the documentation: http://pandas.pydata.org/pandas-docs/stable/indexing.html#indexing-view-versus-copy\n",
      "  after removing the cwd from sys.path.\n"
     ]
    },
    {
     "data": {
      "text/html": [
       "<div>\n",
       "<style scoped>\n",
       "    .dataframe tbody tr th:only-of-type {\n",
       "        vertical-align: middle;\n",
       "    }\n",
       "\n",
       "    .dataframe tbody tr th {\n",
       "        vertical-align: top;\n",
       "    }\n",
       "\n",
       "    .dataframe thead th {\n",
       "        text-align: right;\n",
       "    }\n",
       "</style>\n",
       "<table border=\"1\" class=\"dataframe\">\n",
       "  <thead>\n",
       "    <tr style=\"text-align: right;\">\n",
       "      <th></th>\n",
       "      <th>owner_id.tag</th>\n",
       "      <th>id.tag</th>\n",
       "      <th>id.raw</th>\n",
       "      <th>photo_id.tag</th>\n",
       "      <th>original_result_id</th>\n",
       "      <th>photo_id.raw</th>\n",
       "      <th>faceDetectRes.tag</th>\n",
       "      <th>faceDetectRes.raw</th>\n",
       "      <th>faceColor.tag</th>\n",
       "      <th>faceColor.raw</th>\n",
       "      <th>faceGloss.tag</th>\n",
       "      <th>faceGloss.raw</th>\n",
       "      <th>lipDetectRes.tag</th>\n",
       "      <th>lipDetectRes.raw</th>\n",
       "      <th>lipColor.tag</th>\n",
       "      <th>lipColor.raw</th>\n",
       "      <th>faceColor.same</th>\n",
       "      <th>faceGloss.same</th>\n",
       "      <th>lipColor.same</th>\n",
       "      <th>count.same</th>\n",
       "    </tr>\n",
       "  </thead>\n",
       "  <tbody>\n",
       "    <tr>\n",
       "      <th>0</th>\n",
       "      <td>90</td>\n",
       "      <td>1</td>\n",
       "      <td>3</td>\n",
       "      <td>1</td>\n",
       "      <td>5</td>\n",
       "      <td>5</td>\n",
       "      <td>1</td>\n",
       "      <td>1</td>\n",
       "      <td>2.0</td>\n",
       "      <td>5.0</td>\n",
       "      <td>0.0</td>\n",
       "      <td>2.0</td>\n",
       "      <td>1.0</td>\n",
       "      <td>1</td>\n",
       "      <td>1.0</td>\n",
       "      <td>4.0</td>\n",
       "      <td>False</td>\n",
       "      <td>False</td>\n",
       "      <td>False</td>\n",
       "      <td>0</td>\n",
       "    </tr>\n",
       "    <tr>\n",
       "      <th>1</th>\n",
       "      <td>91</td>\n",
       "      <td>3</td>\n",
       "      <td>3</td>\n",
       "      <td>1</td>\n",
       "      <td>5</td>\n",
       "      <td>5</td>\n",
       "      <td>1</td>\n",
       "      <td>1</td>\n",
       "      <td>2.0</td>\n",
       "      <td>5.0</td>\n",
       "      <td>0.0</td>\n",
       "      <td>2.0</td>\n",
       "      <td>1.0</td>\n",
       "      <td>1</td>\n",
       "      <td>1.0</td>\n",
       "      <td>4.0</td>\n",
       "      <td>False</td>\n",
       "      <td>False</td>\n",
       "      <td>False</td>\n",
       "      <td>0</td>\n",
       "    </tr>\n",
       "    <tr>\n",
       "      <th>2</th>\n",
       "      <td>93</td>\n",
       "      <td>333</td>\n",
       "      <td>3</td>\n",
       "      <td>1</td>\n",
       "      <td>5</td>\n",
       "      <td>5</td>\n",
       "      <td>1</td>\n",
       "      <td>1</td>\n",
       "      <td>2.0</td>\n",
       "      <td>5.0</td>\n",
       "      <td>0.0</td>\n",
       "      <td>2.0</td>\n",
       "      <td>1.0</td>\n",
       "      <td>1</td>\n",
       "      <td>2.0</td>\n",
       "      <td>4.0</td>\n",
       "      <td>False</td>\n",
       "      <td>False</td>\n",
       "      <td>False</td>\n",
       "      <td>0</td>\n",
       "    </tr>\n",
       "    <tr>\n",
       "      <th>3</th>\n",
       "      <td>1</td>\n",
       "      <td>575</td>\n",
       "      <td>3</td>\n",
       "      <td>1</td>\n",
       "      <td>5</td>\n",
       "      <td>5</td>\n",
       "      <td>1</td>\n",
       "      <td>1</td>\n",
       "      <td>2.0</td>\n",
       "      <td>5.0</td>\n",
       "      <td>0.0</td>\n",
       "      <td>2.0</td>\n",
       "      <td>1.0</td>\n",
       "      <td>1</td>\n",
       "      <td>2.0</td>\n",
       "      <td>4.0</td>\n",
       "      <td>False</td>\n",
       "      <td>False</td>\n",
       "      <td>False</td>\n",
       "      <td>0</td>\n",
       "    </tr>\n",
       "    <tr>\n",
       "      <th>4</th>\n",
       "      <td>90</td>\n",
       "      <td>2</td>\n",
       "      <td>60</td>\n",
       "      <td>2</td>\n",
       "      <td>111</td>\n",
       "      <td>111</td>\n",
       "      <td>1</td>\n",
       "      <td>1</td>\n",
       "      <td>3.0</td>\n",
       "      <td>5.0</td>\n",
       "      <td>1.0</td>\n",
       "      <td>2.0</td>\n",
       "      <td>1.0</td>\n",
       "      <td>1</td>\n",
       "      <td>0.0</td>\n",
       "      <td>0.0</td>\n",
       "      <td>False</td>\n",
       "      <td>False</td>\n",
       "      <td>True</td>\n",
       "      <td>1</td>\n",
       "    </tr>\n",
       "  </tbody>\n",
       "</table>\n",
       "</div>"
      ],
      "text/plain": [
       "   owner_id.tag  id.tag  id.raw  photo_id.tag  original_result_id  \\\n",
       "0            90       1       3             1                   5   \n",
       "1            91       3       3             1                   5   \n",
       "2            93     333       3             1                   5   \n",
       "3             1     575       3             1                   5   \n",
       "4            90       2      60             2                 111   \n",
       "\n",
       "   photo_id.raw  faceDetectRes.tag  faceDetectRes.raw  faceColor.tag  \\\n",
       "0             5                  1                  1            2.0   \n",
       "1             5                  1                  1            2.0   \n",
       "2             5                  1                  1            2.0   \n",
       "3             5                  1                  1            2.0   \n",
       "4           111                  1                  1            3.0   \n",
       "\n",
       "   faceColor.raw  faceGloss.tag  faceGloss.raw  lipDetectRes.tag  \\\n",
       "0            5.0            0.0            2.0               1.0   \n",
       "1            5.0            0.0            2.0               1.0   \n",
       "2            5.0            0.0            2.0               1.0   \n",
       "3            5.0            0.0            2.0               1.0   \n",
       "4            5.0            1.0            2.0               1.0   \n",
       "\n",
       "   lipDetectRes.raw  lipColor.tag  lipColor.raw  faceColor.same  \\\n",
       "0                 1           1.0           4.0           False   \n",
       "1                 1           1.0           4.0           False   \n",
       "2                 1           2.0           4.0           False   \n",
       "3                 1           2.0           4.0           False   \n",
       "4                 1           0.0           0.0           False   \n",
       "\n",
       "   faceGloss.same  lipColor.same  count.same  \n",
       "0           False          False           0  \n",
       "1           False          False           0  \n",
       "2           False          False           0  \n",
       "3           False          False           0  \n",
       "4           False           True           1  "
      ]
     },
     "execution_count": 10,
     "metadata": {},
     "output_type": "execute_result"
    }
   ],
   "source": [
    "result['faceColor.same'] = (result['faceColor.raw'] == result['faceColor.tag'])\n",
    "result['faceGloss.same'] = (result['faceGloss.raw'] == result['faceGloss.tag'])\n",
    "result['lipColor.same'] = (result['lipColor.raw'] == result['lipColor.tag'])\n",
    "result['count.same'] = result[['faceColor.same', 'faceGloss.same', 'lipColor.same']].sum(axis=1)\n",
    "result.head()"
   ]
  },
  {
   "cell_type": "markdown",
   "metadata": {},
   "source": [
    "### 双方标签一致情况 ###\n",
    "\n",
    "不做任何处理的话，一致性很差。`count.same`是双方给出相同特征的记录数，完全相同的（即`count.same`=3）只有4条（占0.47%）。\n",
    "\n",
    "面色标签有6种，光泽3种，唇色5种。总的组合有$6\\times3\\times5=90$种，完全随机的情况下比例是$1\\div90=1.11\\%$，现在的情况比随机还差，推测是有稳定的偏差存在。"
   ]
  },
  {
   "cell_type": "code",
   "execution_count": 11,
   "metadata": {},
   "outputs": [
    {
     "data": {
      "text/html": [
       "<div>\n",
       "<style scoped>\n",
       "    .dataframe tbody tr th:only-of-type {\n",
       "        vertical-align: middle;\n",
       "    }\n",
       "\n",
       "    .dataframe tbody tr th {\n",
       "        vertical-align: top;\n",
       "    }\n",
       "\n",
       "    .dataframe thead th {\n",
       "        text-align: right;\n",
       "    }\n",
       "</style>\n",
       "<table border=\"1\" class=\"dataframe\">\n",
       "  <thead>\n",
       "    <tr style=\"text-align: right;\">\n",
       "      <th></th>\n",
       "      <th>count</th>\n",
       "      <th>percentage</th>\n",
       "    </tr>\n",
       "    <tr>\n",
       "      <th>count.same</th>\n",
       "      <th></th>\n",
       "      <th></th>\n",
       "    </tr>\n",
       "  </thead>\n",
       "  <tbody>\n",
       "    <tr>\n",
       "      <th>0</th>\n",
       "      <td>309</td>\n",
       "      <td>36.741974</td>\n",
       "    </tr>\n",
       "    <tr>\n",
       "      <th>1</th>\n",
       "      <td>398</td>\n",
       "      <td>47.324614</td>\n",
       "    </tr>\n",
       "    <tr>\n",
       "      <th>2</th>\n",
       "      <td>130</td>\n",
       "      <td>15.457788</td>\n",
       "    </tr>\n",
       "    <tr>\n",
       "      <th>3</th>\n",
       "      <td>4</td>\n",
       "      <td>0.475624</td>\n",
       "    </tr>\n",
       "  </tbody>\n",
       "</table>\n",
       "</div>"
      ],
      "text/plain": [
       "            count  percentage\n",
       "count.same                   \n",
       "0             309   36.741974\n",
       "1             398   47.324614\n",
       "2             130   15.457788\n",
       "3               4    0.475624"
      ]
     },
     "execution_count": 11,
     "metadata": {},
     "output_type": "execute_result"
    },
    {
     "data": {
      "image/png": "[encoded data removed]",
      "text/plain": [
       "<Figure size 432x288 with 1 Axes>"
      ]
     },
     "metadata": {},
     "output_type": "display_data"
    }
   ],
   "source": [
    "ans = result.groupby('count.same').count()[['id.tag']]\n",
    "ans.columns = ['count']\n",
    "ans['percentage'] = ans / ans['count'].sum() * 100\n",
    "ans['count'].plot(kind='bar')\n",
    "ans"
   ]
  },
  {
   "cell_type": "markdown",
   "metadata": {},
   "source": [
    "### 一致性 ###\n",
    "\n",
    "用最宽泛的一致性定义，定义只要有一个标签相同即为一致，此时的一致性也只有63.25%"
   ]
  },
  {
   "cell_type": "code",
   "execution_count": 12,
   "metadata": {},
   "outputs": [
    {
     "data": {
      "text/plain": [
       "0.6325802615933412"
      ]
     },
     "execution_count": 12,
     "metadata": {},
     "output_type": "execute_result"
    }
   ],
   "source": [
    "result[result['count.same'] > 0].shape[0] / result.shape[0]"
   ]
  },
  {
   "cell_type": "markdown",
   "metadata": {},
   "source": [
    "## 数据映射处理 ##\n",
    "\n",
    "下面对数据做一些映射和手动分组，提高一致性比例"
   ]
  },
  {
   "cell_type": "markdown",
   "metadata": {},
   "source": [
    "### 分析 ###\n",
    "\n",
    "分析各个标签的一致性情况。存在偏差的行占比都在50%以上，最严重的是唇色。"
   ]
  },
  {
   "cell_type": "code",
   "execution_count": 13,
   "metadata": {},
   "outputs": [
    {
     "data": {
      "text/plain": [
       "faceColor.same    309\n",
       "lipColor.same      89\n",
       "faceGloss.same    272\n",
       "dtype: int64"
      ]
     },
     "execution_count": 13,
     "metadata": {},
     "output_type": "execute_result"
    }
   ],
   "source": [
    "result[['faceColor.same', 'lipColor.same', 'faceGloss.same']].sum(axis=0)"
   ]
  },
  {
   "cell_type": "markdown",
   "metadata": {},
   "source": [
    "### 唇色 ###\n",
    "\n",
    "先从分离最严重的唇色开始做变换。\n",
    "\n",
    "分析唇色的分布，算法输出(`raw`)最多的是4（紫）、0（白）、3（暗红），人工标签`tag`最多的是1（淡红）、2（红）、3（暗红）。"
   ]
  },
  {
   "cell_type": "code",
   "execution_count": 14,
   "metadata": {},
   "outputs": [
    {
     "data": {
      "text/plain": [
       "4.0    357\n",
       "0.0    238\n",
       "3.0    138\n",
       "1.0     62\n",
       "2.0     31\n",
       "Name: lipColor.raw, dtype: int64"
      ]
     },
     "execution_count": 14,
     "metadata": {},
     "output_type": "execute_result"
    }
   ],
   "source": [
    "result['lipColor.raw'].value_counts(sort=True)"
   ]
  },
  {
   "cell_type": "code",
   "execution_count": 15,
   "metadata": {},
   "outputs": [
    {
     "data": {
      "text/plain": [
       "1.0    453\n",
       "2.0    226\n",
       "3.0    127\n",
       "0.0     23\n",
       "4.0     11\n",
       "Name: lipColor.tag, dtype: int64"
      ]
     },
     "execution_count": 15,
     "metadata": {},
     "output_type": "execute_result"
    }
   ],
   "source": [
    "result['lipColor.tag'].value_counts(sort=True)"
   ]
  },
  {
   "cell_type": "markdown",
   "metadata": {},
   "source": [
    "要提高一致性，算法上可以做一个调整或者简单地变换，减少紫和白的比例（实际上这两种唇色也少），放到淡红、红色来。现在直接做个暴力的变换，把两边占比最高的几组强行分配到一起，作为相等对待。一致性可以提高到92.5%"
   ]
  },
  {
   "cell_type": "code",
   "execution_count": 16,
   "metadata": {},
   "outputs": [
    {
     "name": "stderr",
     "output_type": "stream",
     "text": [
      "/home/genzj/.virtualenvs/test/lib/python3.6/site-packages/ipykernel_launcher.py:4: SettingWithCopyWarning: \n",
      "A value is trying to be set on a copy of a slice from a DataFrame.\n",
      "Try using .loc[row_indexer,col_indexer] = value instead\n",
      "\n",
      "See the caveats in the documentation: http://pandas.pydata.org/pandas-docs/stable/indexing.html#indexing-view-versus-copy\n",
      "  after removing the cwd from sys.path.\n"
     ]
    },
    {
     "data": {
      "text/plain": [
       "(778, 0.925089179548157)"
      ]
     },
     "execution_count": 16,
     "metadata": {},
     "output_type": "execute_result"
    }
   ],
   "source": [
    "result['grouped.lipColor.same'] = (\n",
    "    result['lipColor.tag'].isin([1.0, 2.0, 3.0]) & result['lipColor.raw'].isin([4.0, 0.0, 3.0])\n",
    ") | (\n",
    "    result['lipColor.raw'] == result['lipColor.tag']\n",
    ")\n",
    "(result['grouped.lipColor.same'].sum(), result['grouped.lipColor.same'].sum() / result.shape[0])"
   ]
  },
  {
   "cell_type": "markdown",
   "metadata": {},
   "source": [
    "### 面色 ###\n",
    "\n",
    "对面色做类似的分析和变换，就简单地认为0和5(面白、面正常）都算正常"
   ]
  },
  {
   "cell_type": "code",
   "execution_count": 17,
   "metadata": {},
   "outputs": [
    {
     "data": {
      "text/plain": [
       "0.0    365\n",
       "5.0    310\n",
       "3.0     73\n",
       "2.0     37\n",
       "1.0     29\n",
       "4.0     27\n",
       "Name: faceColor.raw, dtype: int64"
      ]
     },
     "execution_count": 17,
     "metadata": {},
     "output_type": "execute_result"
    }
   ],
   "source": [
    "result['faceColor.raw'].value_counts(sort=True)"
   ]
  },
  {
   "cell_type": "code",
   "execution_count": 18,
   "metadata": {},
   "outputs": [
    {
     "data": {
      "text/plain": [
       "5.0    678\n",
       "0.0     57\n",
       "3.0     42\n",
       "2.0     42\n",
       "4.0     13\n",
       "1.0      8\n",
       "Name: faceColor.tag, dtype: int64"
      ]
     },
     "execution_count": 18,
     "metadata": {},
     "output_type": "execute_result"
    }
   ],
   "source": [
    "result['faceColor.tag'].value_counts(sort=True)"
   ]
  },
  {
   "cell_type": "markdown",
   "metadata": {},
   "source": [
    "变换后一致性有74.43%"
   ]
  },
  {
   "cell_type": "code",
   "execution_count": 19,
   "metadata": {},
   "outputs": [
    {
     "name": "stderr",
     "output_type": "stream",
     "text": [
      "/home/genzj/.virtualenvs/test/lib/python3.6/site-packages/ipykernel_launcher.py:4: SettingWithCopyWarning: \n",
      "A value is trying to be set on a copy of a slice from a DataFrame.\n",
      "Try using .loc[row_indexer,col_indexer] = value instead\n",
      "\n",
      "See the caveats in the documentation: http://pandas.pydata.org/pandas-docs/stable/indexing.html#indexing-view-versus-copy\n",
      "  after removing the cwd from sys.path.\n"
     ]
    },
    {
     "data": {
      "text/plain": [
       "(626, 0.7443519619500595)"
      ]
     },
     "execution_count": 19,
     "metadata": {},
     "output_type": "execute_result"
    }
   ],
   "source": [
    "result['grouped.faceColor.same'] = (\n",
    "    result['faceColor.raw'].isin([0, 5]) & result['faceColor.tag'].isin([0, 5])\n",
    ") | (\n",
    "    result['faceColor.raw'] == result['faceColor.tag']\n",
    ")\n",
    "(result['grouped.faceColor.same'].sum(), result['grouped.faceColor.same'].sum() / result.shape[0])"
   ]
  },
  {
   "cell_type": "markdown",
   "metadata": {},
   "source": [
    "### 面光泽 ###\n",
    "\n",
    "对面光泽做类似的分析和变换，明显算法输出偏暗，基本平均分布，少光泽和无光泽更多。人工标签有光泽更多。这里就把有光泽和少光泽归并作为有光泽处理。一致性可以提高到65.04%"
   ]
  },
  {
   "cell_type": "code",
   "execution_count": 20,
   "metadata": {},
   "outputs": [
    {
     "data": {
      "text/plain": [
       "1.0    305\n",
       "2.0    282\n",
       "0.0    254\n",
       "Name: faceGloss.raw, dtype: int64"
      ]
     },
     "execution_count": 20,
     "metadata": {},
     "output_type": "execute_result"
    }
   ],
   "source": [
    "result['faceGloss.raw'].value_counts(sort=True)"
   ]
  },
  {
   "cell_type": "code",
   "execution_count": 21,
   "metadata": {},
   "outputs": [
    {
     "data": {
      "text/plain": [
       "0.0    637\n",
       "1.0    181\n",
       "2.0     22\n",
       "Name: faceGloss.tag, dtype: int64"
      ]
     },
     "execution_count": 21,
     "metadata": {},
     "output_type": "execute_result"
    }
   ],
   "source": [
    "result['faceGloss.tag'].value_counts(sort=True)"
   ]
  },
  {
   "cell_type": "code",
   "execution_count": 22,
   "metadata": {},
   "outputs": [
    {
     "name": "stderr",
     "output_type": "stream",
     "text": [
      "/home/genzj/.virtualenvs/test/lib/python3.6/site-packages/ipykernel_launcher.py:4: SettingWithCopyWarning: \n",
      "A value is trying to be set on a copy of a slice from a DataFrame.\n",
      "Try using .loc[row_indexer,col_indexer] = value instead\n",
      "\n",
      "See the caveats in the documentation: http://pandas.pydata.org/pandas-docs/stable/indexing.html#indexing-view-versus-copy\n",
      "  after removing the cwd from sys.path.\n"
     ]
    },
    {
     "data": {
      "text/plain": [
       "(547, 0.6504161712247325)"
      ]
     },
     "execution_count": 22,
     "metadata": {},
     "output_type": "execute_result"
    }
   ],
   "source": [
    "result['grouped.faceGloss.same'] = (\n",
    "    result['faceGloss.raw'].isin([0, 1]) & result['faceGloss.tag'].isin([0, 1])\n",
    ") | (\n",
    "    result['faceGloss.raw'] == result['faceGloss.tag']\n",
    ")\n",
    "(result['grouped.faceGloss.same'].sum(), result['grouped.faceGloss.same'].sum() / result.shape[0])"
   ]
  },
  {
   "cell_type": "markdown",
   "metadata": {},
   "source": [
    "### 变换后的总体一致性 ###\n",
    "\n",
    "基于变换后的结果，再做一致性分析。"
   ]
  },
  {
   "cell_type": "code",
   "execution_count": 23,
   "metadata": {},
   "outputs": [
    {
     "name": "stderr",
     "output_type": "stream",
     "text": [
      "/home/genzj/.virtualenvs/test/lib/python3.6/site-packages/ipykernel_launcher.py:3: SettingWithCopyWarning: \n",
      "A value is trying to be set on a copy of a slice from a DataFrame.\n",
      "Try using .loc[row_indexer,col_indexer] = value instead\n",
      "\n",
      "See the caveats in the documentation: http://pandas.pydata.org/pandas-docs/stable/indexing.html#indexing-view-versus-copy\n",
      "  This is separate from the ipykernel package so we can avoid doing imports until\n"
     ]
    },
    {
     "data": {
      "text/html": [
       "<div>\n",
       "<style scoped>\n",
       "    .dataframe tbody tr th:only-of-type {\n",
       "        vertical-align: middle;\n",
       "    }\n",
       "\n",
       "    .dataframe tbody tr th {\n",
       "        vertical-align: top;\n",
       "    }\n",
       "\n",
       "    .dataframe thead th {\n",
       "        text-align: right;\n",
       "    }\n",
       "</style>\n",
       "<table border=\"1\" class=\"dataframe\">\n",
       "  <thead>\n",
       "    <tr style=\"text-align: right;\">\n",
       "      <th></th>\n",
       "      <th>count</th>\n",
       "      <th>percentage</th>\n",
       "    </tr>\n",
       "    <tr>\n",
       "      <th>grouped.count.same</th>\n",
       "      <th></th>\n",
       "      <th></th>\n",
       "    </tr>\n",
       "  </thead>\n",
       "  <tbody>\n",
       "    <tr>\n",
       "      <th>0</th>\n",
       "      <td>4</td>\n",
       "      <td>0.475624</td>\n",
       "    </tr>\n",
       "    <tr>\n",
       "      <th>1</th>\n",
       "      <td>97</td>\n",
       "      <td>11.533888</td>\n",
       "    </tr>\n",
       "    <tr>\n",
       "      <th>2</th>\n",
       "      <td>366</td>\n",
       "      <td>43.519620</td>\n",
       "    </tr>\n",
       "    <tr>\n",
       "      <th>3</th>\n",
       "      <td>374</td>\n",
       "      <td>44.470868</td>\n",
       "    </tr>\n",
       "  </tbody>\n",
       "</table>\n",
       "</div>"
      ],
      "text/plain": [
       "                    count  percentage\n",
       "grouped.count.same                   \n",
       "0                       4    0.475624\n",
       "1                      97   11.533888\n",
       "2                     366   43.519620\n",
       "3                     374   44.470868"
      ]
     },
     "execution_count": 23,
     "metadata": {},
     "output_type": "execute_result"
    },
    {
     "data": {
      "image/png": "[encoded data removed]",
      "text/plain": [
       "<Figure size 432x288 with 1 Axes>"
      ]
     },
     "metadata": {},
     "output_type": "display_data"
    }
   ],
   "source": [
    "result['grouped.count.same'] = result[[\n",
    "    'grouped.faceColor.same', 'grouped.faceGloss.same', 'grouped.lipColor.same'\n",
    "]].sum(axis=1)\n",
    "\n",
    "grouped_ans = result.groupby('grouped.count.same').count()[['id.tag']]\n",
    "grouped_ans.columns = ['count']\n",
    "grouped_ans['percentage'] = grouped_ans / grouped_ans['count'].sum() * 100\n",
    "grouped_ans['count'].plot(kind='bar')\n",
    "grouped_ans"
   ]
  },
  {
   "cell_type": "markdown",
   "metadata": {},
   "source": [
    "调整后一致性高很多，完全一致的占44.47%，仅有一项特征不一致的占43.52%\n",
    "\n",
    "我们可以定义一致性为`所有标签取值完全一致，或仅有一个标签取值不一致`，此时最终一致性为$44.47\\% + 43.52\\% = 87.99\\%$."
   ]
  },
  {
   "cell_type": "markdown",
   "metadata": {},
   "source": [
    "## 小结 ##\n",
    "\n",
    "上面的分析和变换没有医学意义，也不被中医理论体系支持，仅仅是为了增大统计值所作的集合映射。\n",
    "\n",
    "要想让结果比较理想，首先可以根据对方打标签的结果，在算法里做类似的映射变换，甚至调整结果使其服从对方标签的统计分布。\n",
    "\n",
    "其次还是要看到，做了比较暴力的变换后，标签完全相同的比率也不到50%，要说服对方接受我们对一致性的定义，如果以标签完全相同作为一致的标准，会对我们工作不利。\n",
    "\n",
    "$\\blacksquare$"
   ]
  }
 ],
 "metadata": {
  "kernelspec": {
   "display_name": "Python 2",
   "language": "python",
   "name": "python2"
  },
  "language_info": {
   "codemirror_mode": {
    "name": "ipython",
    "version": 2
   },
   "file_extension": ".py",
   "mimetype": "text/x-python",
   "name": "python",
   "nbconvert_exporter": "python",
   "pygments_lexer": "ipython2",
   "version": "2.7.12"
  }
 },
 "nbformat": 4,
 "nbformat_minor": 2
}
